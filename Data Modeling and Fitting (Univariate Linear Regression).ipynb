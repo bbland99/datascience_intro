{
 "cells": [
  {
   "cell_type": "markdown",
   "metadata": {},
   "source": [
    "\n",
    "<h2 align = center>Data Modeling and Fitting with Imported Data</h2>\n",
    "<h3 align=center>(Univariate Linear Regression with SciKitLearn)</h3>\n",
    "\n",
    "<h3 align=center>Ben Bland</h3>"
   ]
  },
  {
   "cell_type": "markdown",
   "metadata": {},
   "source": [
    "<h3>Importing modules and loading the 'brain' dataset</h3>"
   ]
  },
  {
   "cell_type": "code",
   "execution_count": 9,
   "metadata": {
    "collapsed": true
   },
   "outputs": [],
   "source": [
    "%matplotlib inline\n",
    "import matplotlib.pyplot as plt\n",
    "import numpy as np\n",
    "import pandas as pd"
   ]
  },
  {
   "cell_type": "markdown",
   "metadata": {},
   "source": [
    "<h3>Looking at the last five entries of the dataset...</h3>"
   ]
  },
  {
   "cell_type": "code",
   "execution_count": 10,
   "metadata": {
    "scrolled": true
   },
   "outputs": [
    {
     "data": {
      "text/html": [
       "<div>\n",
       "<style>\n",
       "    .dataframe thead tr:only-child th {\n",
       "        text-align: right;\n",
       "    }\n",
       "\n",
       "    .dataframe thead th {\n",
       "        text-align: left;\n",
       "    }\n",
       "\n",
       "    .dataframe tbody tr th {\n",
       "        vertical-align: top;\n",
       "    }\n",
       "</style>\n",
       "<table border=\"1\" class=\"dataframe\">\n",
       "  <thead>\n",
       "    <tr style=\"text-align: right;\">\n",
       "      <th></th>\n",
       "      <th>gender</th>\n",
       "      <th>age-group</th>\n",
       "      <th>head-size</th>\n",
       "      <th>brain-weight</th>\n",
       "    </tr>\n",
       "  </thead>\n",
       "  <tbody>\n",
       "    <tr>\n",
       "      <th>232</th>\n",
       "      <td>2</td>\n",
       "      <td>2</td>\n",
       "      <td>3214</td>\n",
       "      <td>1110</td>\n",
       "    </tr>\n",
       "    <tr>\n",
       "      <th>233</th>\n",
       "      <td>2</td>\n",
       "      <td>2</td>\n",
       "      <td>3394</td>\n",
       "      <td>1215</td>\n",
       "    </tr>\n",
       "    <tr>\n",
       "      <th>234</th>\n",
       "      <td>2</td>\n",
       "      <td>2</td>\n",
       "      <td>3233</td>\n",
       "      <td>1104</td>\n",
       "    </tr>\n",
       "    <tr>\n",
       "      <th>235</th>\n",
       "      <td>2</td>\n",
       "      <td>2</td>\n",
       "      <td>3352</td>\n",
       "      <td>1170</td>\n",
       "    </tr>\n",
       "    <tr>\n",
       "      <th>236</th>\n",
       "      <td>2</td>\n",
       "      <td>2</td>\n",
       "      <td>3391</td>\n",
       "      <td>1120</td>\n",
       "    </tr>\n",
       "  </tbody>\n",
       "</table>\n",
       "</div>"
      ],
      "text/plain": [
       "     gender  age-group  head-size  brain-weight\n",
       "232       2          2       3214          1110\n",
       "233       2          2       3394          1215\n",
       "234       2          2       3233          1104\n",
       "235       2          2       3352          1170\n",
       "236       2          2       3391          1120"
      ]
     },
     "execution_count": 10,
     "metadata": {},
     "output_type": "execute_result"
    }
   ],
   "source": [
    "df = pd.read_csv('dataset_brain.txt',\n",
    "                encoding = 'utf-8',\n",
    "                comment='#',\n",
    "                sep = '\\s+')\n",
    "df.tail()\n"
   ]
  },
  {
   "cell_type": "markdown",
   "metadata": {},
   "source": [
    "<h2> Examining data for statistical correlations of features</h2>"
   ]
  },
  {
   "cell_type": "code",
   "execution_count": 11,
   "metadata": {
    "scrolled": true
   },
   "outputs": [
    {
     "data": {
      "text/html": [
       "<div>\n",
       "<style>\n",
       "    .dataframe thead tr:only-child th {\n",
       "        text-align: right;\n",
       "    }\n",
       "\n",
       "    .dataframe thead th {\n",
       "        text-align: left;\n",
       "    }\n",
       "\n",
       "    .dataframe tbody tr th {\n",
       "        vertical-align: top;\n",
       "    }\n",
       "</style>\n",
       "<table border=\"1\" class=\"dataframe\">\n",
       "  <thead>\n",
       "    <tr style=\"text-align: right;\">\n",
       "      <th></th>\n",
       "      <th>gender</th>\n",
       "      <th>age-group</th>\n",
       "      <th>head-size</th>\n",
       "      <th>brain-weight</th>\n",
       "    </tr>\n",
       "  </thead>\n",
       "  <tbody>\n",
       "    <tr>\n",
       "      <th>gender</th>\n",
       "      <td>1.000000</td>\n",
       "      <td>-0.088652</td>\n",
       "      <td>-0.514050</td>\n",
       "      <td>-0.465266</td>\n",
       "    </tr>\n",
       "    <tr>\n",
       "      <th>age-group</th>\n",
       "      <td>-0.088652</td>\n",
       "      <td>1.000000</td>\n",
       "      <td>-0.105428</td>\n",
       "      <td>-0.169438</td>\n",
       "    </tr>\n",
       "    <tr>\n",
       "      <th>head-size</th>\n",
       "      <td>-0.514050</td>\n",
       "      <td>-0.105428</td>\n",
       "      <td>1.000000</td>\n",
       "      <td>0.799570</td>\n",
       "    </tr>\n",
       "    <tr>\n",
       "      <th>brain-weight</th>\n",
       "      <td>-0.465266</td>\n",
       "      <td>-0.169438</td>\n",
       "      <td>0.799570</td>\n",
       "      <td>1.000000</td>\n",
       "    </tr>\n",
       "  </tbody>\n",
       "</table>\n",
       "</div>"
      ],
      "text/plain": [
       "                gender  age-group  head-size  brain-weight\n",
       "gender        1.000000  -0.088652  -0.514050     -0.465266\n",
       "age-group    -0.088652   1.000000  -0.105428     -0.169438\n",
       "head-size    -0.514050  -0.105428   1.000000      0.799570\n",
       "brain-weight -0.465266  -0.169438   0.799570      1.000000"
      ]
     },
     "execution_count": 11,
     "metadata": {},
     "output_type": "execute_result"
    }
   ],
   "source": [
    "df.corr()"
   ]
  },
  {
   "cell_type": "markdown",
   "metadata": {},
   "source": [
    "<h2> Plot the data that shows <i>high</i> correlation (head-size & brain-weight at ~80% correlation)</h2>"
   ]
  },
  {
   "cell_type": "code",
   "execution_count": 12,
   "metadata": {},
   "outputs": [
    {
     "data": {
      "image/png": "[encoded data removed]",
      "text/plain": [
       "<matplotlib.figure.Figure at 0x29a4b06c4e0>"
      ]
     },
     "metadata": {},
     "output_type": "display_data"
    }
   ],
   "source": [
    "#Using matplotlib.pyplot to create a scatter plot with head size on the X-axis and brain weight on the Y-axis\n",
    "plt.scatter(df['head-size'], df['brain-weight'])\n",
    "plt.xlabel('Head size (cm^3)')\n",
    "plt.ylabel('Brain weight (grams)');\n"
   ]
  },
  {
   "cell_type": "markdown",
   "metadata": {},
   "source": [
    "<h2>Preparing the dataset for model building</h2>"
   ]
  },
  {
   "cell_type": "code",
   "execution_count": 13,
   "metadata": {},
   "outputs": [
    {
     "data": {
      "text/plain": [
       "(237,)"
      ]
     },
     "execution_count": 13,
     "metadata": {},
     "output_type": "execute_result"
    }
   ],
   "source": [
    "y = df['brain-weight'].values\n",
    "y.shape"
   ]
  },
  {
   "cell_type": "markdown",
   "metadata": {},
   "source": [
    "<h2>SciKitLearn and Numpy expect the data to be 2 dimensional so we will need to add an axis</h2>\n",
    "The newaxis object can be used in all slicing operations to create an axis of length one. Each newaxis object in the selection tuple serves to expand the dimensions of the resulting selection by one unit-length dimension. newaxis is an alias for ‘None’, and ‘None’ can be used in place of this with the same result."
   ]
  },
  {
   "cell_type": "code",
   "execution_count": 14,
   "metadata": {},
   "outputs": [
    {
     "data": {
      "text/plain": [
       "(237, 1)"
      ]
     },
     "execution_count": 14,
     "metadata": {},
     "output_type": "execute_result"
    }
   ],
   "source": [
    "X = df['head-size'].values\n",
    "X=X.reshape(237,1)\n",
    "#X = X[:, np.newaxis] \n",
    "#This command (used often) would do the same as above.\n",
    "X.shape"
   ]
  },
  {
   "cell_type": "markdown",
   "metadata": {},
   "source": [
    "## ASIDE\n",
    "<h3 style=\"color:green\">Re-sizing NumPy Arrays</h3>"
   ]
  },
  {
   "cell_type": "code",
   "execution_count": 15,
   "metadata": {},
   "outputs": [
    {
     "name": "stdout",
     "output_type": "stream",
     "text": [
      "The shape of the array A is (3,) and of array C is (3,): \n",
      "Now add a dimension to both arrays using two different methods\n",
      "Now the shape of the array B is (3, 1) and of array D is (3, 1): \n"
     ]
    }
   ],
   "source": [
    "import numpy as np\n",
    "#create 2 dimensional array (1 row and 3 columns)\n",
    "A = np.array([1,2,3])\n",
    "C = np.array([4,5,6])\n",
    "print(\"The shape of the array A is {0} and of array C is {1}: \".format(A.shape, C.shape))\n",
    "print(\"Now add a dimension to both arrays using two different methods\")\n",
    "B = A[:,np.newaxis]\n",
    "D = C.reshape(3,1)\n",
    "print(\"Now the shape of the array B is {0} and of array D is {1}: \".format(B.shape, D.shape))"
   ]
  },
  {
   "cell_type": "markdown",
   "metadata": {},
   "source": [
    "<h2>Train/Test Split of Data</h2>\n",
    "\n",
    "Scikit learn contains a function called the train_test_split function that will randomly shuffle the dataset and then splits it into two datasets: a training set used to build the model and a test set to assess and evaluate how well the model works on unseen data (also called out-ofsample data). The train_test_split function by default does a 75%/25% train/test split but the split can be modified by tuning the parameters of the function as indicated below in the code.\n",
    "\n",
    "<h3>So, we need to split the dataset into training and testing sets. To do this we <i>import</i> the train_test_split method from scikitlearn.</h3>"
   ]
  },
  {
   "cell_type": "code",
   "execution_count": 16,
   "metadata": {
    "collapsed": true
   },
   "outputs": [],
   "source": [
    "from sklearn.model_selection import train_test_split\n",
    "\n",
    "X_train, X_test, y_train, y_test = train_test_split(X, y, test_size=0.25, random_state=100)"
   ]
  },
  {
   "cell_type": "markdown",
   "metadata": {},
   "source": [
    "What did this accomplish?\n",
    "* Model can be trained and tested on <b>different data</b>\n",
    "* Response values (y) are known for the testing set (X), and thus <b>predictions can be evaluated</b>\n",
    "* <b>Testing accuracy</b> is a better estimate than training accuracy of out-of-sample performance\n",
    "\n",
    "\n",
    "<h3>To get a good visual representation of our data after splitting it, lets plot the data</h3>"
   ]
  },
  {
   "cell_type": "code",
   "execution_count": 17,
   "metadata": {},
   "outputs": [
    {
     "data": {
      "image/png": "[encoded data removed]",
      "text/plain": [
       "<matplotlib.figure.Figure at 0x29a4d153eb8>"
      ]
     },
     "metadata": {},
     "output_type": "display_data"
    }
   ],
   "source": [
    "plt.scatter(X_train, y_train, c='blue', marker = 'o')\n",
    "plt.scatter(X_test, y_test, c='red', marker = 's')\n",
    "plt.xlabel('Head size (cm^3)')\n",
    "plt.ylabel('Brain weight (grams)');"
   ]
  },
  {
   "cell_type": "markdown",
   "metadata": {},
   "source": [
    "The data shows a trend that indicates the brain weight rate increases as we move to larger head sizes. Let's now use the raw data to:\n",
    "\n",
    "1. Find a best fit for the data\n",
    "2. Creating a model from the best fit parameters\n",
    "3. Testing the model predictive capability with new data\n",
    "4. Evaluating the model's performance"
   ]
  },
  {
   "cell_type": "markdown",
   "metadata": {},
   "source": [
    "<h2>Fitting the Linear Regression model to the dataset</h2>"
   ]
  },
  {
   "cell_type": "code",
   "execution_count": 18,
   "metadata": {},
   "outputs": [
    {
     "data": {
      "text/plain": [
       "LinearRegression(copy_X=True, fit_intercept=True, n_jobs=1, normalize=False)"
      ]
     },
     "execution_count": 18,
     "metadata": {},
     "output_type": "execute_result"
    }
   ],
   "source": [
    "from sklearn.linear_model import LinearRegression\n",
    "#instantiate the class (object)\n",
    "lr = LinearRegression()\n",
    "#call the fit method\n",
    "lr.fit(X_train,y_train)"
   ]
  },
  {
   "cell_type": "code",
   "execution_count": 19,
   "metadata": {
    "collapsed": true
   },
   "outputs": [],
   "source": [
    "#Let's generate the predictions (an array) based on our test data as input\n",
    "y_pred = lr.predict(X_test)"
   ]
  },
  {
   "cell_type": "markdown",
   "metadata": {},
   "source": [
    "<h2>Evaluating the model</h2>\n",
    "\n",
    "Let's use definitions to evaluate the goodness of the fit. Let's just <b>brute force</b> it with code..."
   ]
  },
  {
   "cell_type": "code",
   "execution_count": 20,
   "metadata": {},
   "outputs": [
    {
     "name": "stdout",
     "output_type": "stream",
     "text": [
      "R2 score:  0.612\n"
     ]
    }
   ],
   "source": [
    "sum_of_squares = ((y_test - y_pred) ** 2).sum()\n",
    "res_sum_of_squares = ((y_test - y_test.mean()) ** 2).sum()\n",
    "r2_score = 1 - (sum_of_squares / res_sum_of_squares)\n",
    "print('R2 score: {0: .3f}'.format (r2_score))"
   ]
  },
  {
   "cell_type": "markdown",
   "metadata": {},
   "source": [
    "Compare the <b>brute force</b> evaluation method to the <b>built-in</b> scoring method."
   ]
  },
  {
   "cell_type": "code",
   "execution_count": 21,
   "metadata": {},
   "outputs": [
    {
     "name": "stdout",
     "output_type": "stream",
     "text": [
      "R2 score: 0.612\n"
     ]
    }
   ],
   "source": [
    "print('R2 score: {0:.3f}'.format(lr.score(X_test, y_test)))"
   ]
  },
  {
   "cell_type": "markdown",
   "metadata": {},
   "source": [
    "<b><i>The regression coefficients (returned from fit) are:</b></i>"
   ]
  },
  {
   "cell_type": "code",
   "execution_count": 22,
   "metadata": {},
   "outputs": [
    {
     "data": {
      "text/plain": [
       "array([ 0.27465969])"
      ]
     },
     "execution_count": 22,
     "metadata": {},
     "output_type": "execute_result"
    }
   ],
   "source": [
    "#the slope\n",
    "slope=lr.coef_\n",
    "slope"
   ]
  },
  {
   "cell_type": "code",
   "execution_count": 23,
   "metadata": {},
   "outputs": [
    {
     "data": {
      "text/plain": [
       "289.28217104676912"
      ]
     },
     "execution_count": 23,
     "metadata": {},
     "output_type": "execute_result"
    }
   ],
   "source": [
    "#the intercept\n",
    "intercept= lr.intercept_\n",
    "intercept\n"
   ]
  },
  {
   "cell_type": "markdown",
   "metadata": {},
   "source": [
    "<h2>Now that we have the best fit parameters, let's create a <i>predictive model!</i> First let's plot our model using these parameters. We use our model to generate data to be plotted from our training set.</h1>"
   ]
  },
  {
   "cell_type": "code",
   "execution_count": 24,
   "metadata": {
    "collapsed": true
   },
   "outputs": [],
   "source": [
    "#let's generate a line from the fitted data.\n",
    "y_fit = slope*X_train + intercept"
   ]
  },
  {
   "cell_type": "markdown",
   "metadata": {},
   "source": [
    "<h3>Now let's plot our raw data and the line from our fitted data...</h3>"
   ]
  },
  {
   "cell_type": "code",
   "execution_count": 25,
   "metadata": {},
   "outputs": [
    {
     "data": {
      "image/png": "[encoded data removed]",
      "text/plain": [
       "<matplotlib.figure.Figure at 0x29a4d351630>"
      ]
     },
     "metadata": {},
     "output_type": "display_data"
    }
   ],
   "source": [
    "#define plot size in inches (width, height) & resolution (DPI)\n",
    "fig = plt.figure(figsize=(4,4), dpi=140)\n",
    "plt.scatter(X_train, y_train, c='blue', marker='.', label='raw data')\n",
    "plt.plot(X_train,y_fit,linestyle=\"dashed\",marker='.',color='red',label='lr fit')\n",
    "plt.plot()\n",
    "plt.xlabel('Head size (cm^3)')\n",
    "plt.ylabel('Brain weight (grams)');\n",
    "#legend\n",
    "plt.legend(loc='upper left')\n",
    "\n",
    "#title\n",
    "plt.title('Brain Weight vs. Head Size')\n",
    "#show plot\n",
    "plt.show()"
   ]
  },
  {
   "cell_type": "markdown",
   "metadata": {
    "collapsed": true
   },
   "source": [
    "<h3 style=\"color:blue\">Summary: The Model and Predictions</h3>"
   ]
  },
  {
   "cell_type": "markdown",
   "metadata": {},
   "source": [
    "From this output, we have determined that the intercept is 289.3 and the regression coefficient for the brain_weight is 0.245. Therefore, the complete regression equation is:\n",
    "\n",
    "<b>Brain_Weight = 0.245*Head_Size + 289.3</b>\n",
    "\n",
    "This equation tells us that the <b>predicted brain weight</b> for people <b>will increase by 0.245 grams for every one cubic centimeter increase in head size.</b>\n",
    "\n",
    "We must take care in using this model for predictions since it has a <b>poor fit</b> to the data with an R-Squared (coefficient of determination) value of 0.612 meaning an <b>accuracy of only ~61%.</b>"
   ]
  },
  {
   "cell_type": "code",
   "execution_count": null,
   "metadata": {
    "collapsed": true
   },
   "outputs": [],
   "source": []
  }
 ],
 "metadata": {
  "kernelspec": {
   "display_name": "Python 3",
   "language": "python",
   "name": "python3"
  },
  "language_info": {
   "codemirror_mode": {
    "name": "ipython",
    "version": 3
   },
   "file_extension": ".py",
   "mimetype": "text/x-python",
   "name": "python",
   "nbconvert_exporter": "python",
   "pygments_lexer": "ipython3",
   "version": "3.6.3"
  }
 },
 "nbformat": 4,
 "nbformat_minor": 2
}
