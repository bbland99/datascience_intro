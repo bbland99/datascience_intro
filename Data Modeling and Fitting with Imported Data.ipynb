{
 "cells": [
  {
   "cell_type": "markdown",
   "metadata": {},
   "source": [
    "<h3 align=center>Data Modeling and Fitting with Imported Data</h3>\n",
    "<h3 align=center>(Multivariate Linear Regression)</h3>\n",
    "<h2 align=center>Ben Bland</h2>"
   ]
  },
  {
   "cell_type": "markdown",
   "metadata": {},
   "source": [
    "<h2>Data and Problem Description</h2>\n",
    "The data that we will explore involves diabetes patients, each patient has 10 variables. There were 442 patients (samples in the dataset) who reported back one year after the data was taken to observe how the disease progressed from the baseline levels."
   ]
  },
  {
   "cell_type": "markdown",
   "metadata": {},
   "source": [
    "| Data Set Characteristics              |\n",
    "| ------------- |:-------------:| -----:|\n",
    "| Number of instances:| 442 |\n",
    "| Number of attributes:|First 10 columns are numeric predictive values |\n",
    "| Target: |Column 11 is a quantitative measure of disease progression one year after baseline |\n",
    "|Attributes: |Age|\n",
    "| |Sex|\n",
    "| |Body Mass Index|\n",
    "| |Average Blood Pressure|\n",
    "| |S1|\n",
    "| |S2|\n",
    "| |S3|\n",
    "| |S4|\n",
    "| |S5|\n",
    "| |S6|\n",
    "\n",
    "<b>Note:</b><i> Each of these 10 feature variables have been mean centered and scaled by the standard deviation times n_samples (i.e. the sum of squares of each column totals 1).</i>\n",
    "Source URL: http://www4.stat.ncsu.edu/~boos/var.select/diabetes.html"
   ]
  },
  {
   "cell_type": "markdown",
   "metadata": {},
   "source": [
    "<h2 align=center style=\"color:red\">Comments on Diabetes Dataset</h2>"
   ]
  },
  {
   "cell_type": "markdown",
   "metadata": {},
   "source": [
    "While it is possible to import the diabetes dataset directly from the web, this version of the dataset is lacking normalization within the feature matrix and will cause many errors when trying to analyze the data."
   ]
  },
  {
   "cell_type": "code",
   "execution_count": 2,
   "metadata": {},
   "outputs": [
    {
     "data": {
      "text/html": [
       "<div>\n",
       "<style>\n",
       "    .dataframe thead tr:only-child th {\n",
       "        text-align: right;\n",
       "    }\n",
       "\n",
       "    .dataframe thead th {\n",
       "        text-align: left;\n",
       "    }\n",
       "\n",
       "    .dataframe tbody tr th {\n",
       "        vertical-align: top;\n",
       "    }\n",
       "</style>\n",
       "<table border=\"1\" class=\"dataframe\">\n",
       "  <thead>\n",
       "    <tr style=\"text-align: right;\">\n",
       "      <th></th>\n",
       "      <th>AGE</th>\n",
       "      <th>SEX</th>\n",
       "      <th>BMI</th>\n",
       "      <th>BP</th>\n",
       "      <th>S1</th>\n",
       "      <th>S2</th>\n",
       "      <th>S3</th>\n",
       "      <th>S4</th>\n",
       "      <th>S5</th>\n",
       "      <th>S6</th>\n",
       "      <th>Y</th>\n",
       "    </tr>\n",
       "  </thead>\n",
       "  <tbody>\n",
       "    <tr>\n",
       "      <th>437</th>\n",
       "      <td>60</td>\n",
       "      <td>2</td>\n",
       "      <td>28.2</td>\n",
       "      <td>112.00</td>\n",
       "      <td>185</td>\n",
       "      <td>113.8</td>\n",
       "      <td>42.0</td>\n",
       "      <td>4.00</td>\n",
       "      <td>4.9836</td>\n",
       "      <td>93</td>\n",
       "      <td>178</td>\n",
       "    </tr>\n",
       "    <tr>\n",
       "      <th>438</th>\n",
       "      <td>47</td>\n",
       "      <td>2</td>\n",
       "      <td>24.9</td>\n",
       "      <td>75.00</td>\n",
       "      <td>225</td>\n",
       "      <td>166.0</td>\n",
       "      <td>42.0</td>\n",
       "      <td>5.00</td>\n",
       "      <td>4.4427</td>\n",
       "      <td>102</td>\n",
       "      <td>104</td>\n",
       "    </tr>\n",
       "    <tr>\n",
       "      <th>439</th>\n",
       "      <td>60</td>\n",
       "      <td>2</td>\n",
       "      <td>24.9</td>\n",
       "      <td>99.67</td>\n",
       "      <td>162</td>\n",
       "      <td>106.6</td>\n",
       "      <td>43.0</td>\n",
       "      <td>3.77</td>\n",
       "      <td>4.1271</td>\n",
       "      <td>95</td>\n",
       "      <td>132</td>\n",
       "    </tr>\n",
       "    <tr>\n",
       "      <th>440</th>\n",
       "      <td>36</td>\n",
       "      <td>1</td>\n",
       "      <td>30.0</td>\n",
       "      <td>95.00</td>\n",
       "      <td>201</td>\n",
       "      <td>125.2</td>\n",
       "      <td>42.0</td>\n",
       "      <td>4.79</td>\n",
       "      <td>5.1299</td>\n",
       "      <td>85</td>\n",
       "      <td>220</td>\n",
       "    </tr>\n",
       "    <tr>\n",
       "      <th>441</th>\n",
       "      <td>36</td>\n",
       "      <td>1</td>\n",
       "      <td>19.6</td>\n",
       "      <td>71.00</td>\n",
       "      <td>250</td>\n",
       "      <td>133.2</td>\n",
       "      <td>97.0</td>\n",
       "      <td>3.00</td>\n",
       "      <td>4.5951</td>\n",
       "      <td>92</td>\n",
       "      <td>57</td>\n",
       "    </tr>\n",
       "  </tbody>\n",
       "</table>\n",
       "</div>"
      ],
      "text/plain": [
       "     AGE  SEX   BMI      BP   S1     S2    S3    S4      S5   S6    Y\n",
       "437   60    2  28.2  112.00  185  113.8  42.0  4.00  4.9836   93  178\n",
       "438   47    2  24.9   75.00  225  166.0  42.0  5.00  4.4427  102  104\n",
       "439   60    2  24.9   99.67  162  106.6  43.0  3.77  4.1271   95  132\n",
       "440   36    1  30.0   95.00  201  125.2  42.0  4.79  5.1299   85  220\n",
       "441   36    1  19.6   71.00  250  133.2  97.0  3.00  4.5951   92   57"
      ]
     },
     "execution_count": 2,
     "metadata": {},
     "output_type": "execute_result"
    }
   ],
   "source": [
    "import pandas as pd\n",
    "df=pd.read_csv(\"http://www4.stat.ncsu.edu/~boos/var.select/diabetes.tab.txt\", encoding=\"utf-8\", comment='#', sep='\\s+')\n",
    "df.tail()"
   ]
  },
  {
   "cell_type": "markdown",
   "metadata": {},
   "source": [
    "Before we start building our model, we need to <i>normalize</i> the dataset. If we do not normalize the dataset before beginning, analysis will become impossible due to errors. <i>Normalization</i> of the feature matrix is performed by adjusting the values of all features so that they have similar magnitudes. There are two popular methods of formatting the dataset in order to work with our analysis tools: scaling and normalization. \n",
    "\n",
    "While most real datasets will be messy and need to be formatted and cleaned, we will import a version of the diabetes dataset that is already been normalized."
   ]
  },
  {
   "cell_type": "code",
   "execution_count": 3,
   "metadata": {
    "collapsed": true
   },
   "outputs": [],
   "source": [
    "%matplotlib inline\n",
    "import numpy as np"
   ]
  },
  {
   "cell_type": "markdown",
   "metadata": {},
   "source": [
    "<h2>Part 1: Model building in scikit-learn</h2>"
   ]
  },
  {
   "cell_type": "code",
   "execution_count": 4,
   "metadata": {},
   "outputs": [
    {
     "name": "stdout",
     "output_type": "stream",
     "text": [
      "dict_keys(['data', 'target', 'DESCR', 'feature_names'])\n"
     ]
    }
   ],
   "source": [
    "#Load the normalized diabetes dataset\n",
    "from sklearn import datasets, linear_model\n",
    "diabetes = datasets.load_diabetes()\n",
    "\n",
    "#The diabetes dataset is stored as a Python dictionary (key:value pairs) with two keys 'target' and 'data'\n",
    "#The value of the 'target' key is a 442 x 1 array and the value of the 'data' key is a 442 x 10 array.\n",
    "\n",
    "#Store the feature matrix (X) and response vector (y)\n",
    "X=diabetes.data\n",
    "y=diabetes.target\n",
    "print(diabetes.keys())"
   ]
  },
  {
   "cell_type": "markdown",
   "metadata": {},
   "source": [
    "<b>\"Features\"</b> are also known as predictors, inputs, or attributes. The <b>\"response\"</b> is also known as the target, label, or output."
   ]
  },
  {
   "cell_type": "code",
   "execution_count": 5,
   "metadata": {},
   "outputs": [
    {
     "name": "stdout",
     "output_type": "stream",
     "text": [
      "(442, 10)\n",
      "(442,)\n"
     ]
    }
   ],
   "source": [
    "#Check the shapes of X and y (don't forget, y is lowercase because it is a column vector)\n",
    "#Look at the shape below\n",
    "\n",
    "print(X.shape)\n",
    "print(y.shape)"
   ]
  },
  {
   "cell_type": "markdown",
   "metadata": {},
   "source": [
    "<h2><u> More Pandas to Handle Our Data</u></h2>"
   ]
  },
  {
   "cell_type": "markdown",
   "metadata": {},
   "source": [
    "<b>\"Observations\"</b> are also known as samples, instances, or records."
   ]
  },
  {
   "cell_type": "code",
   "execution_count": 6,
   "metadata": {},
   "outputs": [
    {
     "data": {
      "text/html": [
       "<div>\n",
       "<style>\n",
       "    .dataframe thead tr:only-child th {\n",
       "        text-align: right;\n",
       "    }\n",
       "\n",
       "    .dataframe thead th {\n",
       "        text-align: left;\n",
       "    }\n",
       "\n",
       "    .dataframe tbody tr th {\n",
       "        vertical-align: top;\n",
       "    }\n",
       "</style>\n",
       "<table border=\"1\" class=\"dataframe\">\n",
       "  <thead>\n",
       "    <tr style=\"text-align: right;\">\n",
       "      <th></th>\n",
       "      <th>Age</th>\n",
       "      <th>Sex</th>\n",
       "      <th>BMI</th>\n",
       "      <th>BP</th>\n",
       "      <th>S1</th>\n",
       "      <th>S2</th>\n",
       "      <th>S3</th>\n",
       "      <th>S4</th>\n",
       "      <th>S5</th>\n",
       "      <th>S6</th>\n",
       "    </tr>\n",
       "  </thead>\n",
       "  <tbody>\n",
       "    <tr>\n",
       "      <th>437</th>\n",
       "      <td>0.041708</td>\n",
       "      <td>0.050680</td>\n",
       "      <td>0.019662</td>\n",
       "      <td>0.059744</td>\n",
       "      <td>-0.005697</td>\n",
       "      <td>-0.002566</td>\n",
       "      <td>-0.028674</td>\n",
       "      <td>-0.002592</td>\n",
       "      <td>0.031193</td>\n",
       "      <td>0.007207</td>\n",
       "    </tr>\n",
       "    <tr>\n",
       "      <th>438</th>\n",
       "      <td>-0.005515</td>\n",
       "      <td>0.050680</td>\n",
       "      <td>-0.015906</td>\n",
       "      <td>-0.067642</td>\n",
       "      <td>0.049341</td>\n",
       "      <td>0.079165</td>\n",
       "      <td>-0.028674</td>\n",
       "      <td>0.034309</td>\n",
       "      <td>-0.018118</td>\n",
       "      <td>0.044485</td>\n",
       "    </tr>\n",
       "    <tr>\n",
       "      <th>439</th>\n",
       "      <td>0.041708</td>\n",
       "      <td>0.050680</td>\n",
       "      <td>-0.015906</td>\n",
       "      <td>0.017282</td>\n",
       "      <td>-0.037344</td>\n",
       "      <td>-0.013840</td>\n",
       "      <td>-0.024993</td>\n",
       "      <td>-0.011080</td>\n",
       "      <td>-0.046879</td>\n",
       "      <td>0.015491</td>\n",
       "    </tr>\n",
       "    <tr>\n",
       "      <th>440</th>\n",
       "      <td>-0.045472</td>\n",
       "      <td>-0.044642</td>\n",
       "      <td>0.039062</td>\n",
       "      <td>0.001215</td>\n",
       "      <td>0.016318</td>\n",
       "      <td>0.015283</td>\n",
       "      <td>-0.028674</td>\n",
       "      <td>0.026560</td>\n",
       "      <td>0.044528</td>\n",
       "      <td>-0.025930</td>\n",
       "    </tr>\n",
       "    <tr>\n",
       "      <th>441</th>\n",
       "      <td>-0.045472</td>\n",
       "      <td>-0.044642</td>\n",
       "      <td>-0.073030</td>\n",
       "      <td>-0.081414</td>\n",
       "      <td>0.083740</td>\n",
       "      <td>0.027809</td>\n",
       "      <td>0.173816</td>\n",
       "      <td>-0.039493</td>\n",
       "      <td>-0.004220</td>\n",
       "      <td>0.003064</td>\n",
       "    </tr>\n",
       "  </tbody>\n",
       "</table>\n",
       "</div>"
      ],
      "text/plain": [
       "          Age       Sex       BMI        BP        S1        S2        S3  \\\n",
       "437  0.041708  0.050680  0.019662  0.059744 -0.005697 -0.002566 -0.028674   \n",
       "438 -0.005515  0.050680 -0.015906 -0.067642  0.049341  0.079165 -0.028674   \n",
       "439  0.041708  0.050680 -0.015906  0.017282 -0.037344 -0.013840 -0.024993   \n",
       "440 -0.045472 -0.044642  0.039062  0.001215  0.016318  0.015283 -0.028674   \n",
       "441 -0.045472 -0.044642 -0.073030 -0.081414  0.083740  0.027809  0.173816   \n",
       "\n",
       "           S4        S5        S6  \n",
       "437 -0.002592  0.031193  0.007207  \n",
       "438  0.034309 -0.018118  0.044485  \n",
       "439 -0.011080 -0.046879  0.015491  \n",
       "440  0.026560  0.044528 -0.025930  \n",
       "441 -0.039493 -0.004220  0.003064  "
      ]
     },
     "execution_count": 6,
     "metadata": {},
     "output_type": "execute_result"
    }
   ],
   "source": [
    "#Examine the first 5 rows of the feature matrix\n",
    "#Note: we are creating and including the feature names here\n",
    "\n",
    "import pandas as pd\n",
    "pd.DataFrame(X, columns=['Age','Sex','BMI','BP','S1','S2','S3','S4','S5','S6']).tail()"
   ]
  },
  {
   "cell_type": "code",
   "execution_count": 7,
   "metadata": {},
   "outputs": [
    {
     "name": "stdout",
     "output_type": "stream",
     "text": [
      "[ 151.   75.  141.  206.  135.   97.  138.   63.  110.  310.  101.   69.\n",
      "  179.  185.  118.  171.  166.  144.   97.  168.   68.   49.   68.  245.\n",
      "  184.  202.  137.   85.  131.  283.  129.   59.  341.   87.   65.  102.\n",
      "  265.  276.  252.   90.  100.   55.   61.   92.  259.   53.  190.  142.\n",
      "   75.  142.  155.  225.   59.  104.  182.  128.   52.   37.  170.  170.\n",
      "   61.  144.   52.  128.   71.  163.  150.   97.  160.  178.   48.  270.\n",
      "  202.  111.   85.   42.  170.  200.  252.  113.  143.   51.   52.  210.\n",
      "   65.  141.   55.  134.   42.  111.   98.  164.   48.   96.   90.  162.\n",
      "  150.  279.   92.   83.  128.  102.  302.  198.   95.   53.  134.  144.\n",
      "  232.   81.  104.   59.  246.  297.  258.  229.  275.  281.  179.  200.\n",
      "  200.  173.  180.   84.  121.  161.   99.  109.  115.  268.  274.  158.\n",
      "  107.   83.  103.  272.   85.  280.  336.  281.  118.  317.  235.   60.\n",
      "  174.  259.  178.  128.   96.  126.  288.   88.  292.   71.  197.  186.\n",
      "   25.   84.   96.  195.   53.  217.  172.  131.  214.   59.   70.  220.\n",
      "  268.  152.   47.   74.  295.  101.  151.  127.  237.  225.   81.  151.\n",
      "  107.   64.  138.  185.  265.  101.  137.  143.  141.   79.  292.  178.\n",
      "   91.  116.   86.  122.   72.  129.  142.   90.  158.   39.  196.  222.\n",
      "  277.   99.  196.  202.  155.   77.  191.   70.   73.   49.   65.  263.\n",
      "  248.  296.  214.  185.   78.   93.  252.  150.   77.  208.   77.  108.\n",
      "  160.   53.  220.  154.  259.   90.  246.  124.   67.   72.  257.  262.\n",
      "  275.  177.   71.   47.  187.  125.   78.   51.  258.  215.  303.  243.\n",
      "   91.  150.  310.  153.  346.   63.   89.   50.   39.  103.  308.  116.\n",
      "  145.   74.   45.  115.  264.   87.  202.  127.  182.  241.   66.   94.\n",
      "  283.   64.  102.  200.  265.   94.  230.  181.  156.  233.   60.  219.\n",
      "   80.   68.  332.  248.   84.  200.   55.   85.   89.   31.  129.   83.\n",
      "  275.   65.  198.  236.  253.  124.   44.  172.  114.  142.  109.  180.\n",
      "  144.  163.  147.   97.  220.  190.  109.  191.  122.  230.  242.  248.\n",
      "  249.  192.  131.  237.   78.  135.  244.  199.  270.  164.   72.   96.\n",
      "  306.   91.  214.   95.  216.  263.  178.  113.  200.  139.  139.   88.\n",
      "  148.   88.  243.   71.   77.  109.  272.   60.   54.  221.   90.  311.\n",
      "  281.  182.  321.   58.  262.  206.  233.  242.  123.  167.   63.  197.\n",
      "   71.  168.  140.  217.  121.  235.  245.   40.   52.  104.  132.   88.\n",
      "   69.  219.   72.  201.  110.   51.  277.   63.  118.   69.  273.  258.\n",
      "   43.  198.  242.  232.  175.   93.  168.  275.  293.  281.   72.  140.\n",
      "  189.  181.  209.  136.  261.  113.  131.  174.  257.   55.   84.   42.\n",
      "  146.  212.  233.   91.  111.  152.  120.   67.  310.   94.  183.   66.\n",
      "  173.   72.   49.   64.   48.  178.  104.  132.  220.   57.]\n"
     ]
    }
   ],
   "source": [
    "#Examine the response vector\n",
    "print(y)"
   ]
  },
  {
   "cell_type": "markdown",
   "metadata": {},
   "source": [
    "In order to <b>build a model</b>, the features must be <b>numeric</b>, and every observation must have the <b>same features in the same order</b>. Let's build a model using only two features from the data; <b>Age</b> & <b>Sex</b>."
   ]
  },
  {
   "cell_type": "code",
   "execution_count": 8,
   "metadata": {
    "collapsed": true
   },
   "outputs": [],
   "source": [
    "#Use only two features (Age and Sex)\n",
    "features = (0,1)\n",
    "X = X[:, features]\n",
    "\n",
    "#We first need to train the machine learning algorithm\n",
    "#So we split X and y into X_train, X_test, y_train, y_test\n",
    "#using the scikit-learn function train_test_split()"
   ]
  },
  {
   "cell_type": "markdown",
   "metadata": {},
   "source": [
    "Scikit-learn has a function that randomly shuffles the data and splits it into training and test data. The function is called <b>train_test_split</b> and by default (<i>unless you override the hyperparameters</i>) will split the data with <b>75% of the rows being used for training, and 25% for testing</b>."
   ]
  },
  {
   "cell_type": "code",
   "execution_count": 9,
   "metadata": {
    "collapsed": true
   },
   "outputs": [],
   "source": [
    "from sklearn.model_selection import train_test_split\n",
    "\n",
    "X_train, X_test, y_train, y_test = train_test_split(X,y,test_size=0.25,random_state=0)"
   ]
  },
  {
   "cell_type": "code",
   "execution_count": 10,
   "metadata": {},
   "outputs": [
    {
     "name": "stdout",
     "output_type": "stream",
     "text": [
      "X_train.shape: (331, 2)\n",
      "y_train.shape: (331,)\n",
      "X_test.shape: (111, 2)\n",
      "y_test.shape: (111,)\n"
     ]
    }
   ],
   "source": [
    "#Examine the training and test data\n",
    "print('X_train.shape: {}'.format(X_train.shape))\n",
    "print('y_train.shape: {}'.format(y_train.shape))\n",
    "print('X_test.shape: {}'.format(X_test.shape))\n",
    "print('y_test.shape: {}'.format(y_test.shape))"
   ]
  },
  {
   "cell_type": "code",
   "execution_count": 11,
   "metadata": {},
   "outputs": [
    {
     "data": {
      "text/plain": [
       "array([[<matplotlib.axes._subplots.AxesSubplot object at 0x000001DD9882C550>,\n",
       "        <matplotlib.axes._subplots.AxesSubplot object at 0x000001DD98ADD2E8>],\n",
       "       [<matplotlib.axes._subplots.AxesSubplot object at 0x000001DD98AF7630>,\n",
       "        <matplotlib.axes._subplots.AxesSubplot object at 0x000001DD98D7D978>]], dtype=object)"
      ]
     },
     "execution_count": 11,
     "metadata": {},
     "output_type": "execute_result"
    },
    {
     "data": {
      "image/png": "[encoded data removed]",
      "text/plain": [
       "<matplotlib.figure.Figure at 0x1dd9884eb00>"
      ]
     },
     "metadata": {},
     "output_type": "display_data"
    }
   ],
   "source": [
    "#Create a Pandas dataframe so that we can plot our data...\n",
    "diabetes_dataframe = pd.DataFrame(X_train, columns=['Age','Sex'])\n",
    "\n",
    "pd.plotting.scatter_matrix(diabetes_dataframe, c=y_train, figsize=(5,5), marker='o', hist_kwds={'bins':10})"
   ]
  },
  {
   "cell_type": "markdown",
   "metadata": {},
   "source": [
    "<h2><u>Creating a Predictive Model</u></h2>"
   ]
  },
  {
   "cell_type": "markdown",
   "metadata": {},
   "source": [
    "<h3 style=color:green>Let's build the model by instantiating the LinearRegression() method and calling the model's fit function.</h3>"
   ]
  },
  {
   "cell_type": "code",
   "execution_count": 12,
   "metadata": {},
   "outputs": [
    {
     "name": "stdout",
     "output_type": "stream",
     "text": [
      "[ 303.32122399   30.5495671 ]\n"
     ]
    }
   ],
   "source": [
    "#Instantiate the model with default parameters (i.e. create an instance of the model)\n",
    "#This is ordinary least squares regression OLS\n",
    "regr = linear_model.LinearRegression()\n",
    "\n",
    "#Training the model (i.e. fitting the model with training data)\n",
    "regr.fit(X_train,y_train)\n",
    "\n",
    "#Printing the coefficients\n",
    "print(regr.coef_)"
   ]
  },
  {
   "cell_type": "markdown",
   "metadata": {},
   "source": [
    "<h2><u>Model Evaluation: Making Predictions and Scoring the Model</u></h2>"
   ]
  },
  {
   "cell_type": "markdown",
   "metadata": {},
   "source": [
    "<h3>Part 2: Using our Model to Make Predictions</h3>"
   ]
  },
  {
   "cell_type": "markdown",
   "metadata": {},
   "source": [
    "Now that the model has been trained, we can now use the model to make predictions on <b>new data</b> for which we might not know the correct outcomes (i.e. the y-values). In order to <b>make a prediction</b>, the new observation must have the <b>same features as the training observations</b>, both in number and in meaning."
   ]
  },
  {
   "cell_type": "code",
   "execution_count": 13,
   "metadata": {},
   "outputs": [
    {
     "name": "stdout",
     "output_type": "stream",
     "text": [
      "X_new shape: (1, 2)\n"
     ]
    }
   ],
   "source": [
    "#Predicting y-value based on the training data. We input a normalized list of Age and Sex Data [Age,Sex]\n",
    "\n",
    "X_new=np.array([0.041708, 0.050680])\n",
    "#Reshape the array so that NumPy can use it\n",
    "X_new=np.reshape(X_new, (1,-1))\n",
    "print('X_new shape: {}'.format(X_new.shape))"
   ]
  },
  {
   "cell_type": "markdown",
   "metadata": {},
   "source": [
    "To make a prediction, we call the predict method of the regr object:"
   ]
  },
  {
   "cell_type": "code",
   "execution_count": 14,
   "metadata": {},
   "outputs": [
    {
     "name": "stdout",
     "output_type": "stream",
     "text": [
      "Prediction is: [ 166.08720662]\n",
      "0.0345926007691\n"
     ]
    }
   ],
   "source": [
    "prediction = regr.predict(X_new)\n",
    "print('Prediction is: {}'.format(prediction))\n",
    "print(regr.score(X_test,y_test))"
   ]
  },
  {
   "cell_type": "markdown",
   "metadata": {},
   "source": [
    "<h2><u>Creating 3D Plots with MatPlotLib</u></h2>"
   ]
  },
  {
   "cell_type": "markdown",
   "metadata": {},
   "source": [
    "<h3>Part 3: Plotting Our Model in 3D</h3>"
   ]
  },
  {
   "cell_type": "markdown",
   "metadata": {},
   "source": [
    "<h3 style=\"color:green\">Plot the training data and testing data on the fitted surface</h3>"
   ]
  },
  {
   "cell_type": "code",
   "execution_count": 15,
   "metadata": {},
   "outputs": [
    {
     "data": {
      "image/png": "[encoded data removed]",
      "text/plain": [
       "<matplotlib.figure.Figure at 0x1dd98e6aa90>"
      ]
     },
     "metadata": {},
     "output_type": "display_data"
    }
   ],
   "source": [
    "import matplotlib.pyplot as plt\n",
    "from mpl_toolkits.mplot3d import Axes3D\n",
    "#Define an inline function (using Lambda) with coefficient variables\n",
    "#returned from the regression analysis.\n",
    "\n",
    "coef=regr.coef_\n",
    "intercept=regr.intercept_\n",
    "line=lambda x1, x2: coef[0]*x1 + coef[1]*x2 + intercept\n",
    "\n",
    "#Plotting\n",
    "fig=plt.figure(figsize=(8,5))\n",
    "grid_x1, grid_x2 = np.mgrid[-.1:.1:10j, -.1:.1:10j]\n",
    "\n",
    "#ax = fig.add_subplot(111, projection='3d')\n",
    "ax = Axes3D(fig)\n",
    "ax = plt.axes(projection='3d')\n",
    "ax.scatter(X_train[:,0], X_train[:,1], y_train, color='green')\n",
    "ax.scatter(X_test[:,0], X_test[:,1], y_test, facecolor='red')\n",
    "ax.plot_surface(grid_x1, grid_x2, line(grid_x1,grid_x2), alpha=0.1, color='red')\n",
    "\n",
    "#Saving the plot as a .pdf file\n",
    "fig.savefig('Diabetesplot_Lab3.pdf', bbox='tight')"
   ]
  },
  {
   "cell_type": "markdown",
   "metadata": {},
   "source": [
    "<h2>Discussion and Comments</h2>"
   ]
  },
  {
   "cell_type": "markdown",
   "metadata": {},
   "source": [
    "In the plot above, it appears to be that a large majority of the points are not on the plane. Earlier in the lab, in the prediction section, the model predicted a y-value with an accuracy of barely 3.5%. It could be said that this model in it's current stage is of no value and should not be used in real applications. However, the model could be improved by obtaining more diabetic data and feeding it into the model. What is also tricky is the numeric values that are used in the feature array. In the dataframe scatter matrix, how are we supposed to know what numeric values correspond to male or female? I'm interested if there are any tricks to converting these values back to their original values once the analysis is done, in order to make it easier to present the analysis in layman's terms."
   ]
  },
  {
   "cell_type": "markdown",
   "metadata": {},
   "source": [
    "I feel that in it's current format, this plot is hard to interpret due to not only the clustering of the data points but the orientation of the red plane within the 3D space. I will ask you for help with clarification tomorrow in class. I am assuming that the fainter the color, the more towards the 'back' of the 3D space the data point is (and the more vibrant the color, the more towards the 'front').\n",
    "\n",
    "I have created two additional Jupyter noteboook files where I have made modifications to this model. The results on these modifications can be seen below. The code is only present in the separate files."
   ]
  },
  {
   "cell_type": "markdown",
   "metadata": {},
   "source": [
    "<h3> Model Modification 1: Different Features</h3>\n",
    "\n",
    "In Mod 1, the features were changed from 'Age' and 'Sex' to 'Body Mass Index' and 'Blood Pressure'. I believed that since these values related more directly to a person's overall health than their age or sex, they would be better indicators for people who are at-risk to diabetes. The model accuracy went from 3.5% to about 25% from this change alone. When plotted, the data points were clustered closer together than they were in the original model."
   ]
  },
  {
   "cell_type": "markdown",
   "metadata": {},
   "source": [
    "<h3>Model Modification 2: Three Features</h3>"
   ]
  },
  {
   "cell_type": "markdown",
   "metadata": {},
   "source": [
    "In Mod 2, a third feature was added ('Age'). Ultimately, this did not improve the model's accuracy, it actually worsened it. The accuracy score in Mod 1 was 0.24616, while the score in Mod 2 was 0.24557. A slight decrease, but still noteworthy."
   ]
  },
  {
   "cell_type": "code",
   "execution_count": null,
   "metadata": {
    "collapsed": true
   },
   "outputs": [],
   "source": []
  }
 ],
 "metadata": {
  "kernelspec": {
   "display_name": "Python 3",
   "language": "python",
   "name": "python3"
  },
  "language_info": {
   "codemirror_mode": {
    "name": "ipython",
    "version": 3
   },
   "file_extension": ".py",
   "mimetype": "text/x-python",
   "name": "python",
   "nbconvert_exporter": "python",
   "pygments_lexer": "ipython3",
   "version": "3.6.3"
  }
 },
 "nbformat": 4,
 "nbformat_minor": 2
}
