{
 "cells": [
  {
   "cell_type": "markdown",
   "metadata": {},
   "source": [
    "<h1 style=\"text-align:center; color:blue\";>Cardiology Data Exploration with Multiple Linear Regression </h1>\n"
   ]
  },
  {
   "cell_type": "code",
   "execution_count": 1,
   "metadata": {
    "collapsed": true
   },
   "outputs": [],
   "source": [
    "# importing packages\n",
    "%matplotlib inline\n",
    "import matplotlib.pyplot as plt\n",
    "import numpy as np\n",
    "import pandas as pd"
   ]
  },
  {
   "cell_type": "code",
   "execution_count": 2,
   "metadata": {
    "collapsed": true
   },
   "outputs": [],
   "source": [
    "#Loading the cardiology data into a Pandas dataframe\n",
    "df = pd.read_csv(\"CardiologyNumerical.csv\")"
   ]
  },
  {
   "cell_type": "code",
   "execution_count": 3,
   "metadata": {},
   "outputs": [
    {
     "data": {
      "text/html": [
       "<div>\n",
       "<style>\n",
       "    .dataframe thead tr:only-child th {\n",
       "        text-align: right;\n",
       "    }\n",
       "\n",
       "    .dataframe thead th {\n",
       "        text-align: left;\n",
       "    }\n",
       "\n",
       "    .dataframe tbody tr th {\n",
       "        vertical-align: top;\n",
       "    }\n",
       "</style>\n",
       "<table border=\"1\" class=\"dataframe\">\n",
       "  <thead>\n",
       "    <tr style=\"text-align: right;\">\n",
       "      <th></th>\n",
       "      <th>angina</th>\n",
       "      <th>slope</th>\n",
       "      <th>thal</th>\n",
       "      <th>class</th>\n",
       "    </tr>\n",
       "  </thead>\n",
       "  <tbody>\n",
       "    <tr>\n",
       "      <th>0</th>\n",
       "      <td>1</td>\n",
       "      <td>2</td>\n",
       "      <td>7</td>\n",
       "      <td>0</td>\n",
       "    </tr>\n",
       "    <tr>\n",
       "      <th>1</th>\n",
       "      <td>0</td>\n",
       "      <td>1</td>\n",
       "      <td>3</td>\n",
       "      <td>1</td>\n",
       "    </tr>\n",
       "    <tr>\n",
       "      <th>2</th>\n",
       "      <td>1</td>\n",
       "      <td>2</td>\n",
       "      <td>3</td>\n",
       "      <td>1</td>\n",
       "    </tr>\n",
       "    <tr>\n",
       "      <th>3</th>\n",
       "      <td>0</td>\n",
       "      <td>2</td>\n",
       "      <td>7</td>\n",
       "      <td>0</td>\n",
       "    </tr>\n",
       "    <tr>\n",
       "      <th>4</th>\n",
       "      <td>1</td>\n",
       "      <td>3</td>\n",
       "      <td>7</td>\n",
       "      <td>0</td>\n",
       "    </tr>\n",
       "  </tbody>\n",
       "</table>\n",
       "</div>"
      ],
      "text/plain": [
       "   angina  slope  thal  class\n",
       "0       1      2     7      0\n",
       "1       0      1     3      1\n",
       "2       1      2     3      1\n",
       "3       0      2     7      0\n",
       "4       1      3     7      0"
      ]
     },
     "execution_count": 3,
     "metadata": {},
     "output_type": "execute_result"
    }
   ],
   "source": [
    "#Looking at the first 5 rows of the dataset\n",
    "\n",
    "df.head()"
   ]
  },
  {
   "cell_type": "code",
   "execution_count": 4,
   "metadata": {},
   "outputs": [
    {
     "name": "stdout",
     "output_type": "stream",
     "text": [
      "(303, 3)\n",
      "(303,)\n"
     ]
    }
   ],
   "source": [
    "#Setting angina, slope, and thal values as the features and class as the output\n",
    "X=df[['angina','slope','thal']]\n",
    "y=df['class']\n",
    "\n",
    "#Printing the shapes of the features and the output\n",
    "print(X.shape)\n",
    "print(y.shape)\n"
   ]
  },
  {
   "cell_type": "code",
   "execution_count": 5,
   "metadata": {},
   "outputs": [
    {
     "name": "stdout",
     "output_type": "stream",
     "text": [
      "X_train.shape: (227, 3)\n",
      "y_train.shape: (227,)\n",
      "X_test.shape: (76, 3)\n",
      "y_test.shape: (76,)\n"
     ]
    }
   ],
   "source": [
    "#Importing scikit-learn's linear model and splitting the dataset into training (75%) and testing (25%) sets\n",
    "\n",
    "from sklearn import linear_model\n",
    "from sklearn.model_selection import train_test_split\n",
    "\n",
    "X_train, X_test, y_train, y_test = train_test_split(X,y,test_size=0.25,random_state=0)\n",
    "\n",
    "print('X_train.shape: {}'.format(X_train.shape))\n",
    "print('y_train.shape: {}'.format(y_train.shape))\n",
    "print('X_test.shape: {}'.format(X_test.shape))\n",
    "print('y_test.shape: {}'.format(y_test.shape))"
   ]
  },
  {
   "cell_type": "code",
   "execution_count": 6,
   "metadata": {},
   "outputs": [
    {
     "name": "stdout",
     "output_type": "stream",
     "text": [
      "[-0.28367422 -0.13070114 -0.10220612]\n"
     ]
    }
   ],
   "source": [
    "#Fitting the data and printing each coefficient\n",
    "\n",
    "regr = linear_model.LinearRegression()\n",
    "regr.fit(X_train,y_train)\n",
    "print(regr.coef_)"
   ]
  },
  {
   "cell_type": "code",
   "execution_count": 14,
   "metadata": {
    "scrolled": true
   },
   "outputs": [
    {
     "name": "stdout",
     "output_type": "stream",
     "text": [
      "0.376548101768\n",
      "1.32766970906\n"
     ]
    }
   ],
   "source": [
    "#Investigating the regression score (based off of the testing data), and printing the intercept for the model's equation\n",
    "print(regr.score(X_test,y_test))\n",
    "print(regr.intercept_)"
   ]
  },
  {
   "cell_type": "markdown",
   "metadata": {},
   "source": [
    "<h2>Creating the Regression Equation (the Model)</h2>\n",
    "\n",
    "Class = (-0.28367422 x Angina) + (-0.13070114 x Slope) + (-0.10220612 x Thal) + 1.32766971\n",
    "\n",
    "The model currently has an accuracy rating of 37.65%."
   ]
  },
  {
   "cell_type": "code",
   "execution_count": 13,
   "metadata": {},
   "outputs": [
    {
     "name": "stdout",
     "output_type": "stream",
     "text": [
      "X_new1 shape: (1, 3)\n",
      "X_new2 shape: (1, 3)\n",
      "X_new3 shape: (1, 3)\n",
      "(303,)\n"
     ]
    }
   ],
   "source": [
    "#Creating new experimental\n",
    "X_new1=np.array([0,2,3])\n",
    "X_new2=np.array([1,3,6])\n",
    "X_new3=np.array([0,1,3])\n",
    "\n",
    "\n",
    "#Reshaping the experimental data\n",
    "X_new1=np.reshape(X_new1, (1,-1))\n",
    "X_new2=np.reshape(X_new2, (1,-1))\n",
    "X_new3=np.reshape(X_new3, (1,-1))\n",
    "\n",
    "#Printing the reshaped data\n",
    "print('X_new1 shape: {}'.format(X_new1.shape))\n",
    "print('X_new2 shape: {}'.format(X_new2.shape))\n",
    "print('X_new3 shape: {}'.format(X_new3.shape))\n",
    "print(y.shape)\n",
    "\n",
    "\n"
   ]
  },
  {
   "cell_type": "code",
   "execution_count": 9,
   "metadata": {},
   "outputs": [
    {
     "name": "stdout",
     "output_type": "stream",
     "text": [
      "Prediction is: [ 0.75964907]\n",
      "Prediction is: [ 0.03865535]\n",
      "Prediction is: [ 0.89035021]\n"
     ]
    }
   ],
   "source": [
    "#Running the reshaped experimental data through the model to see what the predictions are\n",
    "\n",
    "prediction1 = regr.predict(X_new1)\n",
    "print('Prediction is: {}'.format(prediction1))\n",
    "\n",
    "prediction2 = regr.predict(X_new2)\n",
    "print('Prediction is: {}'.format(prediction2))\n",
    "\n",
    "prediction3 = regr.predict(X_new3)\n",
    "print('Prediction is: {}'.format(prediction3))"
   ]
  },
  {
   "cell_type": "markdown",
   "metadata": {},
   "source": [
    "While not dead on accurate (correct answers 1,0,1), if the answers are rounded up/down then the model was correct in all three of its predictions."
   ]
  },
  {
   "cell_type": "code",
   "execution_count": null,
   "metadata": {
    "collapsed": true
   },
   "outputs": [],
   "source": []
  }
 ],
 "metadata": {
  "kernelspec": {
   "display_name": "Python 3",
   "language": "python",
   "name": "python3"
  },
  "language_info": {
   "codemirror_mode": {
    "name": "ipython",
    "version": 3
   },
   "file_extension": ".py",
   "mimetype": "text/x-python",
   "name": "python",
   "nbconvert_exporter": "python",
   "pygments_lexer": "ipython3",
   "version": "3.6.3"
  }
 },
 "nbformat": 4,
 "nbformat_minor": 2
}
